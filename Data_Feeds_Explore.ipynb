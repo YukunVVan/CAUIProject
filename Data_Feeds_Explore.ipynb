{
 "cells": [
  {
   "cell_type": "markdown",
   "metadata": {},
   "source": [
    "# Get Accident Data via Open Data API"
   ]
  },
  {
   "cell_type": "code",
   "execution_count": 205,
   "metadata": {},
   "outputs": [],
   "source": [
    "import pandas as pd\n",
    "from sodapy import Socrata"
   ]
  },
  {
   "cell_type": "code",
   "execution_count": 237,
   "metadata": {},
   "outputs": [],
   "source": [
    "MyAppToken = 'FuCzu5cIpbE8LgmfNlJhuUOPC'\n",
    "# Example authenticated client (needed for non-public datasets):\n",
    "client = Socrata(\"data.cityofnewyork.us\",\n",
    "                 MyAppToken,\n",
    "                 username=\"yukun.vvan@gmail.com\",\n",
    "                 password=\"9336@ashinWYK\")"
   ]
  },
  {
   "cell_type": "code",
   "execution_count": 248,
   "metadata": {},
   "outputs": [],
   "source": [
    "# First 2000 results, returned as JSON from API / converted to Python list of\n",
    "# dictionaries by sodapy.\n",
    "results = client.get(\"qiz3-axqb\",select = \"date,borough,latitude,location,longitude,number_of_persons_injured\",\n",
    "                     where=\"borough='MANHATTAN' and date > '2015-12-31' and date < '2017-01-01' and number_of_persons_injured <> 0\", \n",
    "                     limit=6000, order=\"date\" )\n",
    "\n",
    "# Convert to pandas DataFrame\n",
    "results_df = pd.DataFrame.from_records(results)"
   ]
  },
  {
   "cell_type": "code",
   "execution_count": 249,
   "metadata": {},
   "outputs": [
    {
     "data": {
      "text/html": [
       "<div>\n",
       "<style>\n",
       "    .dataframe thead tr:only-child th {\n",
       "        text-align: right;\n",
       "    }\n",
       "\n",
       "    .dataframe thead th {\n",
       "        text-align: left;\n",
       "    }\n",
       "\n",
       "    .dataframe tbody tr th {\n",
       "        vertical-align: top;\n",
       "    }\n",
       "</style>\n",
       "<table border=\"1\" class=\"dataframe\">\n",
       "  <thead>\n",
       "    <tr style=\"text-align: right;\">\n",
       "      <th></th>\n",
       "      <th>borough</th>\n",
       "      <th>date</th>\n",
       "      <th>latitude</th>\n",
       "      <th>location</th>\n",
       "      <th>longitude</th>\n",
       "      <th>number_of_persons_injured</th>\n",
       "    </tr>\n",
       "  </thead>\n",
       "  <tbody>\n",
       "    <tr>\n",
       "      <th>0</th>\n",
       "      <td>MANHATTAN</td>\n",
       "      <td>2016-01-01T00:00:00.000</td>\n",
       "      <td>40.8609571</td>\n",
       "      <td>{u'type': u'Point', u'coordinates': [-73.92650...</td>\n",
       "      <td>-73.9265034</td>\n",
       "      <td>1</td>\n",
       "    </tr>\n",
       "    <tr>\n",
       "      <th>1</th>\n",
       "      <td>MANHATTAN</td>\n",
       "      <td>2016-01-01T00:00:00.000</td>\n",
       "      <td>40.7230221</td>\n",
       "      <td>{u'type': u'Point', u'coordinates': [-73.99881...</td>\n",
       "      <td>-73.9988131</td>\n",
       "      <td>1</td>\n",
       "    </tr>\n",
       "    <tr>\n",
       "      <th>2</th>\n",
       "      <td>MANHATTAN</td>\n",
       "      <td>2016-01-01T00:00:00.000</td>\n",
       "      <td>40.7256734</td>\n",
       "      <td>{u'type': u'Point', u'coordinates': [-74.00577...</td>\n",
       "      <td>-74.0057798</td>\n",
       "      <td>2</td>\n",
       "    </tr>\n",
       "    <tr>\n",
       "      <th>3</th>\n",
       "      <td>MANHATTAN</td>\n",
       "      <td>2016-01-01T00:00:00.000</td>\n",
       "      <td>40.7218863</td>\n",
       "      <td>{u'type': u'Point', u'coordinates': [-73.97734...</td>\n",
       "      <td>-73.9773477</td>\n",
       "      <td>1</td>\n",
       "    </tr>\n",
       "    <tr>\n",
       "      <th>4</th>\n",
       "      <td>MANHATTAN</td>\n",
       "      <td>2016-01-01T00:00:00.000</td>\n",
       "      <td>40.8133899</td>\n",
       "      <td>{u'type': u'Point', u'coordinates': [-73.95625...</td>\n",
       "      <td>-73.9562587</td>\n",
       "      <td>1</td>\n",
       "    </tr>\n",
       "  </tbody>\n",
       "</table>\n",
       "</div>"
      ],
      "text/plain": [
       "     borough                     date    latitude  \\\n",
       "0  MANHATTAN  2016-01-01T00:00:00.000  40.8609571   \n",
       "1  MANHATTAN  2016-01-01T00:00:00.000  40.7230221   \n",
       "2  MANHATTAN  2016-01-01T00:00:00.000  40.7256734   \n",
       "3  MANHATTAN  2016-01-01T00:00:00.000  40.7218863   \n",
       "4  MANHATTAN  2016-01-01T00:00:00.000  40.8133899   \n",
       "\n",
       "                                            location    longitude  \\\n",
       "0  {u'type': u'Point', u'coordinates': [-73.92650...  -73.9265034   \n",
       "1  {u'type': u'Point', u'coordinates': [-73.99881...  -73.9988131   \n",
       "2  {u'type': u'Point', u'coordinates': [-74.00577...  -74.0057798   \n",
       "3  {u'type': u'Point', u'coordinates': [-73.97734...  -73.9773477   \n",
       "4  {u'type': u'Point', u'coordinates': [-73.95625...  -73.9562587   \n",
       "\n",
       "  number_of_persons_injured  \n",
       "0                         1  \n",
       "1                         1  \n",
       "2                         2  \n",
       "3                         1  \n",
       "4                         1  "
      ]
     },
     "execution_count": 249,
     "metadata": {},
     "output_type": "execute_result"
    }
   ],
   "source": [
    "results_df.head()"
   ]
  },
  {
   "cell_type": "code",
   "execution_count": 250,
   "metadata": {},
   "outputs": [],
   "source": [
    "results_df.date = pd.to_datetime(results_df.date)"
   ]
  },
  {
   "cell_type": "code",
   "execution_count": 251,
   "metadata": {},
   "outputs": [
    {
     "data": {
      "text/plain": [
       "date\n",
       "0    5160\n",
       "dtype: int64"
      ]
     },
     "execution_count": 251,
     "metadata": {},
     "output_type": "execute_result"
    }
   ],
   "source": [
    "results_df.groupby(results_df.date.dt.hour).size()"
   ]
  },
  {
   "cell_type": "code",
   "execution_count": 241,
   "metadata": {},
   "outputs": [],
   "source": [
    "results_df.to_csv('accident_2016_Manhattan_injured.csv')"
   ]
  },
  {
   "cell_type": "code",
   "execution_count": null,
   "metadata": {},
   "outputs": [],
   "source": []
  },
  {
   "cell_type": "code",
   "execution_count": 252,
   "metadata": {},
   "outputs": [],
   "source": [
    "results = client.get(\"qiz3-axqb\",select = \"date,borough,latitude,location,longitude,number_of_persons_injured,number_of_persons_killed\",\n",
    "                     where=\"borough='MANHATTAN' and date > '2015-12-31' and date < '2017-01-01'\", \n",
    "                     limit=50000, order=\"date\" )\n",
    "\n",
    "# Convert to pandas DataFrame\n",
    "results_df = pd.DataFrame.from_records(results)"
   ]
  },
  {
   "cell_type": "code",
   "execution_count": 253,
   "metadata": {},
   "outputs": [
    {
     "data": {
      "text/plain": [
       "36765"
      ]
     },
     "execution_count": 253,
     "metadata": {},
     "output_type": "execute_result"
    }
   ],
   "source": [
    "len(results_df)"
   ]
  },
  {
   "cell_type": "code",
   "execution_count": 254,
   "metadata": {},
   "outputs": [
    {
     "data": {
      "text/html": [
       "<div>\n",
       "<style>\n",
       "    .dataframe thead tr:only-child th {\n",
       "        text-align: right;\n",
       "    }\n",
       "\n",
       "    .dataframe thead th {\n",
       "        text-align: left;\n",
       "    }\n",
       "\n",
       "    .dataframe tbody tr th {\n",
       "        vertical-align: top;\n",
       "    }\n",
       "</style>\n",
       "<table border=\"1\" class=\"dataframe\">\n",
       "  <thead>\n",
       "    <tr style=\"text-align: right;\">\n",
       "      <th></th>\n",
       "      <th>borough</th>\n",
       "      <th>date</th>\n",
       "      <th>latitude</th>\n",
       "      <th>location</th>\n",
       "      <th>longitude</th>\n",
       "      <th>number_of_persons_injured</th>\n",
       "      <th>number_of_persons_killed</th>\n",
       "    </tr>\n",
       "  </thead>\n",
       "  <tbody>\n",
       "    <tr>\n",
       "      <th>0</th>\n",
       "      <td>MANHATTAN</td>\n",
       "      <td>2016-01-01T00:00:00.000</td>\n",
       "      <td>40.7534818</td>\n",
       "      <td>{u'type': u'Point', u'coordinates': [-73.98088...</td>\n",
       "      <td>-73.9808885</td>\n",
       "      <td>0</td>\n",
       "      <td>0</td>\n",
       "    </tr>\n",
       "    <tr>\n",
       "      <th>1</th>\n",
       "      <td>MANHATTAN</td>\n",
       "      <td>2016-01-01T00:00:00.000</td>\n",
       "      <td>40.7509908</td>\n",
       "      <td>{u'type': u'Point', u'coordinates': [-73.99062...</td>\n",
       "      <td>-73.9906233</td>\n",
       "      <td>0</td>\n",
       "      <td>0</td>\n",
       "    </tr>\n",
       "    <tr>\n",
       "      <th>2</th>\n",
       "      <td>MANHATTAN</td>\n",
       "      <td>2016-01-01T00:00:00.000</td>\n",
       "      <td>40.7503184</td>\n",
       "      <td>{u'type': u'Point', u'coordinates': [-73.99111...</td>\n",
       "      <td>-73.9911106</td>\n",
       "      <td>0</td>\n",
       "      <td>0</td>\n",
       "    </tr>\n",
       "    <tr>\n",
       "      <th>3</th>\n",
       "      <td>MANHATTAN</td>\n",
       "      <td>2016-01-01T00:00:00.000</td>\n",
       "      <td>40.7597301</td>\n",
       "      <td>{u'type': u'Point', u'coordinates': [-73.99168...</td>\n",
       "      <td>-73.9916833</td>\n",
       "      <td>0</td>\n",
       "      <td>0</td>\n",
       "    </tr>\n",
       "    <tr>\n",
       "      <th>4</th>\n",
       "      <td>MANHATTAN</td>\n",
       "      <td>2016-01-01T00:00:00.000</td>\n",
       "      <td>40.7222418</td>\n",
       "      <td>{u'type': u'Point', u'coordinates': [-73.98628...</td>\n",
       "      <td>-73.9862873</td>\n",
       "      <td>0</td>\n",
       "      <td>0</td>\n",
       "    </tr>\n",
       "  </tbody>\n",
       "</table>\n",
       "</div>"
      ],
      "text/plain": [
       "     borough                     date    latitude  \\\n",
       "0  MANHATTAN  2016-01-01T00:00:00.000  40.7534818   \n",
       "1  MANHATTAN  2016-01-01T00:00:00.000  40.7509908   \n",
       "2  MANHATTAN  2016-01-01T00:00:00.000  40.7503184   \n",
       "3  MANHATTAN  2016-01-01T00:00:00.000  40.7597301   \n",
       "4  MANHATTAN  2016-01-01T00:00:00.000  40.7222418   \n",
       "\n",
       "                                            location    longitude  \\\n",
       "0  {u'type': u'Point', u'coordinates': [-73.98088...  -73.9808885   \n",
       "1  {u'type': u'Point', u'coordinates': [-73.99062...  -73.9906233   \n",
       "2  {u'type': u'Point', u'coordinates': [-73.99111...  -73.9911106   \n",
       "3  {u'type': u'Point', u'coordinates': [-73.99168...  -73.9916833   \n",
       "4  {u'type': u'Point', u'coordinates': [-73.98628...  -73.9862873   \n",
       "\n",
       "  number_of_persons_injured number_of_persons_killed  \n",
       "0                         0                        0  \n",
       "1                         0                        0  \n",
       "2                         0                        0  \n",
       "3                         0                        0  \n",
       "4                         0                        0  "
      ]
     },
     "execution_count": 254,
     "metadata": {},
     "output_type": "execute_result"
    }
   ],
   "source": [
    "results_df.head()"
   ]
  },
  {
   "cell_type": "code",
   "execution_count": 257,
   "metadata": {},
   "outputs": [],
   "source": [
    "results_df.date = pd.to_datetime(results_df.date)"
   ]
  },
  {
   "cell_type": "code",
   "execution_count": 273,
   "metadata": {},
   "outputs": [],
   "source": [
    "results_df.to_csv('accident_2016_Manhattan_all.csv')"
   ]
  },
  {
   "cell_type": "code",
   "execution_count": 266,
   "metadata": {},
   "outputs": [
    {
     "data": {
      "text/html": [
       "<div>\n",
       "<style>\n",
       "    .dataframe thead tr:only-child th {\n",
       "        text-align: right;\n",
       "    }\n",
       "\n",
       "    .dataframe thead th {\n",
       "        text-align: left;\n",
       "    }\n",
       "\n",
       "    .dataframe tbody tr th {\n",
       "        vertical-align: top;\n",
       "    }\n",
       "</style>\n",
       "<table border=\"1\" class=\"dataframe\">\n",
       "  <thead>\n",
       "    <tr style=\"text-align: right;\">\n",
       "      <th></th>\n",
       "      <th>date</th>\n",
       "      <th>counts</th>\n",
       "    </tr>\n",
       "  </thead>\n",
       "  <tbody>\n",
       "    <tr>\n",
       "      <th>0</th>\n",
       "      <td>2016-01-01</td>\n",
       "      <td>67</td>\n",
       "    </tr>\n",
       "    <tr>\n",
       "      <th>1</th>\n",
       "      <td>2016-01-02</td>\n",
       "      <td>77</td>\n",
       "    </tr>\n",
       "    <tr>\n",
       "      <th>2</th>\n",
       "      <td>2016-01-03</td>\n",
       "      <td>74</td>\n",
       "    </tr>\n",
       "    <tr>\n",
       "      <th>3</th>\n",
       "      <td>2016-01-04</td>\n",
       "      <td>94</td>\n",
       "    </tr>\n",
       "    <tr>\n",
       "      <th>4</th>\n",
       "      <td>2016-01-05</td>\n",
       "      <td>86</td>\n",
       "    </tr>\n",
       "  </tbody>\n",
       "</table>\n",
       "</div>"
      ],
      "text/plain": [
       "         date  counts\n",
       "0  2016-01-01      67\n",
       "1  2016-01-02      77\n",
       "2  2016-01-03      74\n",
       "3  2016-01-04      94\n",
       "4  2016-01-05      86"
      ]
     },
     "execution_count": 266,
     "metadata": {},
     "output_type": "execute_result"
    }
   ],
   "source": [
    "p = pd.DataFrame(results_df.groupby(results_df.date.dt.date).size())\n",
    "p.reset_index(inplace=True)\n",
    "p.columns = ['date','counts']\n",
    "p.head()"
   ]
  },
  {
   "cell_type": "code",
   "execution_count": 272,
   "metadata": {},
   "outputs": [
    {
     "data": {
      "text/plain": [
       "[<matplotlib.lines.Line2D at 0x10ba68a10>]"
      ]
     },
     "execution_count": 272,
     "metadata": {},
     "output_type": "execute_result"
    },
    {
     "data": {
      "image/png": "[encoded data removed]",
      "text/plain": [
       "<matplotlib.figure.Figure at 0x10ba80610>"
      ]
     },
     "metadata": {},
     "output_type": "display_data"
    }
   ],
   "source": [
    "fig = pl.figure(figsize=(20,10))\n",
    "pl.plot(p.date,p.counts)"
   ]
  },
  {
   "cell_type": "code",
   "execution_count": 274,
   "metadata": {},
   "outputs": [
    {
     "data": {
      "text/html": [
       "<div>\n",
       "<style>\n",
       "    .dataframe thead tr:only-child th {\n",
       "        text-align: right;\n",
       "    }\n",
       "\n",
       "    .dataframe thead th {\n",
       "        text-align: left;\n",
       "    }\n",
       "\n",
       "    .dataframe tbody tr th {\n",
       "        vertical-align: top;\n",
       "    }\n",
       "</style>\n",
       "<table border=\"1\" class=\"dataframe\">\n",
       "  <thead>\n",
       "    <tr style=\"text-align: right;\">\n",
       "      <th></th>\n",
       "      <th>month</th>\n",
       "      <th>counts</th>\n",
       "    </tr>\n",
       "  </thead>\n",
       "  <tbody>\n",
       "    <tr>\n",
       "      <th>0</th>\n",
       "      <td>1</td>\n",
       "      <td>3178</td>\n",
       "    </tr>\n",
       "    <tr>\n",
       "      <th>1</th>\n",
       "      <td>2</td>\n",
       "      <td>3195</td>\n",
       "    </tr>\n",
       "    <tr>\n",
       "      <th>2</th>\n",
       "      <td>3</td>\n",
       "      <td>3486</td>\n",
       "    </tr>\n",
       "    <tr>\n",
       "      <th>3</th>\n",
       "      <td>4</td>\n",
       "      <td>3548</td>\n",
       "    </tr>\n",
       "    <tr>\n",
       "      <th>4</th>\n",
       "      <td>5</td>\n",
       "      <td>3437</td>\n",
       "    </tr>\n",
       "  </tbody>\n",
       "</table>\n",
       "</div>"
      ],
      "text/plain": [
       "   month  counts\n",
       "0      1    3178\n",
       "1      2    3195\n",
       "2      3    3486\n",
       "3      4    3548\n",
       "4      5    3437"
      ]
     },
     "execution_count": 274,
     "metadata": {},
     "output_type": "execute_result"
    }
   ],
   "source": [
    "p = pd.DataFrame(results_df.groupby(results_df.date.dt.month).size())\n",
    "p.reset_index(inplace=True)\n",
    "p.columns = ['month','counts']\n",
    "p.head()"
   ]
  },
  {
   "cell_type": "code",
   "execution_count": 277,
   "metadata": {},
   "outputs": [
    {
     "data": {
      "text/plain": [
       "[<matplotlib.lines.Line2D at 0x1146be710>]"
      ]
     },
     "execution_count": 277,
     "metadata": {},
     "output_type": "execute_result"
    },
    {
     "data": {
      "image/png": "[encoded data removed]",
      "text/plain": [
       "<matplotlib.figure.Figure at 0x1146be610>"
      ]
     },
     "metadata": {},
     "output_type": "display_data"
    }
   ],
   "source": [
    "fig = pl.figure(figsize=(20,10))\n",
    "pl.plot(p.month,p.counts)"
   ]
  },
  {
   "cell_type": "code",
   "execution_count": null,
   "metadata": {},
   "outputs": [],
   "source": []
  },
  {
   "cell_type": "code",
   "execution_count": null,
   "metadata": {},
   "outputs": [],
   "source": []
  },
  {
   "cell_type": "markdown",
   "metadata": {},
   "source": [
    "# Initial exploring in Accident data"
   ]
  },
  {
   "cell_type": "code",
   "execution_count": 77,
   "metadata": {},
   "outputs": [],
   "source": [
    "# accident\n",
    "accident = pd.DataFrame()\n",
    "for i in range(31):\n",
    "    url = \"https://data.cityofnewyork.us/resource/qiz3-axqb.json?date=2017-10-\" + str(i+1) + \"&borough=MANHATTAN\"\n",
    "    tmp = pd.read_json(url)\n",
    "    accident = pd.concat([accident,tmp])"
   ]
  },
  {
   "cell_type": "code",
   "execution_count": 78,
   "metadata": {},
   "outputs": [
    {
     "data": {
      "text/html": [
       "<div>\n",
       "<style>\n",
       "    .dataframe thead tr:only-child th {\n",
       "        text-align: right;\n",
       "    }\n",
       "\n",
       "    .dataframe thead th {\n",
       "        text-align: left;\n",
       "    }\n",
       "\n",
       "    .dataframe tbody tr th {\n",
       "        vertical-align: top;\n",
       "    }\n",
       "</style>\n",
       "<table border=\"1\" class=\"dataframe\">\n",
       "  <thead>\n",
       "    <tr style=\"text-align: right;\">\n",
       "      <th></th>\n",
       "      <th>borough</th>\n",
       "      <th>contributing_factor_vehicle_1</th>\n",
       "      <th>contributing_factor_vehicle_2</th>\n",
       "      <th>contributing_factor_vehicle_3</th>\n",
       "      <th>contributing_factor_vehicle_4</th>\n",
       "      <th>contributing_factor_vehicle_5</th>\n",
       "      <th>cross_street_name</th>\n",
       "      <th>date</th>\n",
       "      <th>latitude</th>\n",
       "      <th>location</th>\n",
       "      <th>...</th>\n",
       "      <th>off_street_name</th>\n",
       "      <th>on_street_name</th>\n",
       "      <th>time</th>\n",
       "      <th>unique_key</th>\n",
       "      <th>vehicle_type_code1</th>\n",
       "      <th>vehicle_type_code2</th>\n",
       "      <th>vehicle_type_code_3</th>\n",
       "      <th>vehicle_type_code_4</th>\n",
       "      <th>vehicle_type_code_5</th>\n",
       "      <th>zip_code</th>\n",
       "    </tr>\n",
       "  </thead>\n",
       "  <tbody>\n",
       "    <tr>\n",
       "      <th>0</th>\n",
       "      <td>MANHATTAN</td>\n",
       "      <td>Following Too Closely</td>\n",
       "      <td>Unspecified</td>\n",
       "      <td>NaN</td>\n",
       "      <td>NaN</td>\n",
       "      <td>NaN</td>\n",
       "      <td>250       WEST 125 STREET</td>\n",
       "      <td>2017-10-01</td>\n",
       "      <td>40.809574</td>\n",
       "      <td>{u'type': u'Point', u'coordinates': [-73.94977...</td>\n",
       "      <td>...</td>\n",
       "      <td>NaN</td>\n",
       "      <td>NaN</td>\n",
       "      <td>19:30</td>\n",
       "      <td>3768453</td>\n",
       "      <td>PASSENGER VEHICLE</td>\n",
       "      <td>PASSENGER VEHICLE</td>\n",
       "      <td>NaN</td>\n",
       "      <td>NaN</td>\n",
       "      <td>NaN</td>\n",
       "      <td>10027</td>\n",
       "    </tr>\n",
       "    <tr>\n",
       "      <th>1</th>\n",
       "      <td>MANHATTAN</td>\n",
       "      <td>Following Too Closely</td>\n",
       "      <td>Driver Inattention/Distraction</td>\n",
       "      <td>NaN</td>\n",
       "      <td>NaN</td>\n",
       "      <td>NaN</td>\n",
       "      <td>NaN</td>\n",
       "      <td>2017-10-01</td>\n",
       "      <td>40.723648</td>\n",
       "      <td>{u'type': u'Point', u'coordinates': [-73.99103...</td>\n",
       "      <td>...</td>\n",
       "      <td>CHRYSTIE STREET</td>\n",
       "      <td>EAST HOUSTON STREET</td>\n",
       "      <td>7:50</td>\n",
       "      <td>3768418</td>\n",
       "      <td>PASSENGER VEHICLE</td>\n",
       "      <td>PASSENGER VEHICLE</td>\n",
       "      <td>NaN</td>\n",
       "      <td>NaN</td>\n",
       "      <td>NaN</td>\n",
       "      <td>10002</td>\n",
       "    </tr>\n",
       "    <tr>\n",
       "      <th>2</th>\n",
       "      <td>MANHATTAN</td>\n",
       "      <td>Unspecified</td>\n",
       "      <td>Unspecified</td>\n",
       "      <td>NaN</td>\n",
       "      <td>NaN</td>\n",
       "      <td>NaN</td>\n",
       "      <td>NaN</td>\n",
       "      <td>2017-10-01</td>\n",
       "      <td>40.806915</td>\n",
       "      <td>{u'type': u'Point', u'coordinates': [-73.93557...</td>\n",
       "      <td>...</td>\n",
       "      <td>EAST 129 STREET</td>\n",
       "      <td>LEXINGTON AVENUE</td>\n",
       "      <td>7:10</td>\n",
       "      <td>3768032</td>\n",
       "      <td>SPORT UTILITY / STATION WAGON</td>\n",
       "      <td>NaN</td>\n",
       "      <td>NaN</td>\n",
       "      <td>NaN</td>\n",
       "      <td>NaN</td>\n",
       "      <td>10035</td>\n",
       "    </tr>\n",
       "    <tr>\n",
       "      <th>3</th>\n",
       "      <td>MANHATTAN</td>\n",
       "      <td>Obstruction/Debris</td>\n",
       "      <td>NaN</td>\n",
       "      <td>NaN</td>\n",
       "      <td>NaN</td>\n",
       "      <td>NaN</td>\n",
       "      <td>NaN</td>\n",
       "      <td>2017-10-01</td>\n",
       "      <td>40.827057</td>\n",
       "      <td>{u'type': u'Point', u'coordinates': [-73.95202...</td>\n",
       "      <td>...</td>\n",
       "      <td>RIVERSIDE DRIVE</td>\n",
       "      <td>WEST 145 STREET</td>\n",
       "      <td>14:20</td>\n",
       "      <td>3766524</td>\n",
       "      <td>BICYCLE</td>\n",
       "      <td>NaN</td>\n",
       "      <td>NaN</td>\n",
       "      <td>NaN</td>\n",
       "      <td>NaN</td>\n",
       "      <td>10031</td>\n",
       "    </tr>\n",
       "    <tr>\n",
       "      <th>4</th>\n",
       "      <td>MANHATTAN</td>\n",
       "      <td>Driver Inattention/Distraction</td>\n",
       "      <td>Driver Inattention/Distraction</td>\n",
       "      <td>NaN</td>\n",
       "      <td>NaN</td>\n",
       "      <td>NaN</td>\n",
       "      <td>NaN</td>\n",
       "      <td>2017-10-01</td>\n",
       "      <td>40.863792</td>\n",
       "      <td>{u'type': u'Point', u'coordinates': [-73.91942...</td>\n",
       "      <td>...</td>\n",
       "      <td>WEST 206 STREET</td>\n",
       "      <td>10 AVENUE</td>\n",
       "      <td>4:17</td>\n",
       "      <td>3766133</td>\n",
       "      <td>PASSENGER VEHICLE</td>\n",
       "      <td>PASSENGER VEHICLE</td>\n",
       "      <td>NaN</td>\n",
       "      <td>NaN</td>\n",
       "      <td>NaN</td>\n",
       "      <td>10034</td>\n",
       "    </tr>\n",
       "  </tbody>\n",
       "</table>\n",
       "<p>5 rows × 29 columns</p>\n",
       "</div>"
      ],
      "text/plain": [
       "     borough   contributing_factor_vehicle_1   contributing_factor_vehicle_2  \\\n",
       "0  MANHATTAN           Following Too Closely                     Unspecified   \n",
       "1  MANHATTAN           Following Too Closely  Driver Inattention/Distraction   \n",
       "2  MANHATTAN                     Unspecified                     Unspecified   \n",
       "3  MANHATTAN              Obstruction/Debris                             NaN   \n",
       "4  MANHATTAN  Driver Inattention/Distraction  Driver Inattention/Distraction   \n",
       "\n",
       "  contributing_factor_vehicle_3 contributing_factor_vehicle_4  \\\n",
       "0                           NaN                           NaN   \n",
       "1                           NaN                           NaN   \n",
       "2                           NaN                           NaN   \n",
       "3                           NaN                           NaN   \n",
       "4                           NaN                           NaN   \n",
       "\n",
       "  contributing_factor_vehicle_5                         cross_street_name  \\\n",
       "0                           NaN  250       WEST 125 STREET                  \n",
       "1                           NaN                                       NaN   \n",
       "2                           NaN                                       NaN   \n",
       "3                           NaN                                       NaN   \n",
       "4                           NaN                                       NaN   \n",
       "\n",
       "        date   latitude                                           location  \\\n",
       "0 2017-10-01  40.809574  {u'type': u'Point', u'coordinates': [-73.94977...   \n",
       "1 2017-10-01  40.723648  {u'type': u'Point', u'coordinates': [-73.99103...   \n",
       "2 2017-10-01  40.806915  {u'type': u'Point', u'coordinates': [-73.93557...   \n",
       "3 2017-10-01  40.827057  {u'type': u'Point', u'coordinates': [-73.95202...   \n",
       "4 2017-10-01  40.863792  {u'type': u'Point', u'coordinates': [-73.91942...   \n",
       "\n",
       "    ...     off_street_name                    on_street_name   time  \\\n",
       "0   ...                 NaN                               NaN  19:30   \n",
       "1   ...     CHRYSTIE STREET  EAST HOUSTON STREET                7:50   \n",
       "2   ...     EAST 129 STREET  LEXINGTON AVENUE                   7:10   \n",
       "3   ...     RIVERSIDE DRIVE  WEST 145 STREET                   14:20   \n",
       "4   ...     WEST 206 STREET  10 AVENUE                          4:17   \n",
       "\n",
       "   unique_key             vehicle_type_code1  vehicle_type_code2  \\\n",
       "0     3768453              PASSENGER VEHICLE   PASSENGER VEHICLE   \n",
       "1     3768418              PASSENGER VEHICLE   PASSENGER VEHICLE   \n",
       "2     3768032  SPORT UTILITY / STATION WAGON                 NaN   \n",
       "3     3766524                        BICYCLE                 NaN   \n",
       "4     3766133              PASSENGER VEHICLE   PASSENGER VEHICLE   \n",
       "\n",
       "   vehicle_type_code_3  vehicle_type_code_4  vehicle_type_code_5 zip_code  \n",
       "0                  NaN                  NaN                  NaN    10027  \n",
       "1                  NaN                  NaN                  NaN    10002  \n",
       "2                  NaN                  NaN                  NaN    10035  \n",
       "3                  NaN                  NaN                  NaN    10031  \n",
       "4                  NaN                  NaN                  NaN    10034  \n",
       "\n",
       "[5 rows x 29 columns]"
      ]
     },
     "execution_count": 78,
     "metadata": {},
     "output_type": "execute_result"
    }
   ],
   "source": [
    "accident.head()"
   ]
  },
  {
   "cell_type": "code",
   "execution_count": 82,
   "metadata": {},
   "outputs": [
    {
     "data": {
      "text/plain": [
       "date\n",
       "2017-10-01     80\n",
       "2017-10-02     77\n",
       "2017-10-03     85\n",
       "2017-10-04     86\n",
       "2017-10-05     79\n",
       "2017-10-06     81\n",
       "2017-10-07     78\n",
       "2017-10-08     72\n",
       "2017-10-09     57\n",
       "2017-10-10     84\n",
       "2017-10-11     87\n",
       "2017-10-12     71\n",
       "2017-10-13     85\n",
       "2017-10-14     70\n",
       "2017-10-15     60\n",
       "2017-10-16     84\n",
       "2017-10-17     83\n",
       "2017-10-18     89\n",
       "2017-10-19    105\n",
       "2017-10-20    115\n",
       "2017-10-21     76\n",
       "2017-10-22     65\n",
       "2017-10-23     96\n",
       "2017-10-24     92\n",
       "2017-10-25     89\n",
       "2017-10-26     79\n",
       "2017-10-27    104\n",
       "2017-10-28     60\n",
       "2017-10-29     83\n",
       "2017-10-30    104\n",
       "2017-10-31     77\n",
       "dtype: int64"
      ]
     },
     "execution_count": 82,
     "metadata": {},
     "output_type": "execute_result"
    }
   ],
   "source": [
    "accident.groupby('date').size()"
   ]
  },
  {
   "cell_type": "code",
   "execution_count": 83,
   "metadata": {},
   "outputs": [],
   "source": [
    "accident.to_csv('accident_201710.csv')"
   ]
  },
  {
   "cell_type": "code",
   "execution_count": 102,
   "metadata": {},
   "outputs": [],
   "source": [
    "accident = pd.read_csv('accident_201710.csv')"
   ]
  },
  {
   "cell_type": "code",
   "execution_count": 103,
   "metadata": {},
   "outputs": [
    {
     "data": {
      "text/plain": [
       "Index([u'Unnamed: 0', u'borough', u'contributing_factor_vehicle_1',\n",
       "       u'contributing_factor_vehicle_2', u'contributing_factor_vehicle_3',\n",
       "       u'contributing_factor_vehicle_4', u'contributing_factor_vehicle_5',\n",
       "       u'cross_street_name', u'date', u'latitude', u'location', u'longitude',\n",
       "       u'number_of_cyclist_injured', u'number_of_cyclist_killed',\n",
       "       u'number_of_motorist_injured', u'number_of_motorist_killed',\n",
       "       u'number_of_pedestrians_injured', u'number_of_pedestrians_killed',\n",
       "       u'number_of_persons_injured', u'number_of_persons_killed',\n",
       "       u'off_street_name', u'on_street_name', u'time', u'unique_key',\n",
       "       u'vehicle_type_code1', u'vehicle_type_code2', u'vehicle_type_code_3',\n",
       "       u'vehicle_type_code_4', u'vehicle_type_code_5', u'zip_code'],\n",
       "      dtype='object')"
      ]
     },
     "execution_count": 103,
     "metadata": {},
     "output_type": "execute_result"
    }
   ],
   "source": [
    "accident.keys()"
   ]
  },
  {
   "cell_type": "code",
   "execution_count": 104,
   "metadata": {},
   "outputs": [],
   "source": [
    "accident.drop([u'borough',u'contributing_factor_vehicle_3',\n",
    "       u'contributing_factor_vehicle_4', u'contributing_factor_vehicle_5',\n",
    "       u'number_of_cyclist_injured', u'number_of_cyclist_killed',\n",
    "       u'number_of_motorist_injured', u'number_of_motorist_killed',\n",
    "       u'number_of_pedestrians_injured', u'number_of_pedestrians_killed',\n",
    "       u'unique_key',\n",
    "       u'vehicle_type_code_3',\n",
    "       u'vehicle_type_code_4', u'vehicle_type_code_5'],axis=1,inplace=True)"
   ]
  },
  {
   "cell_type": "code",
   "execution_count": 105,
   "metadata": {},
   "outputs": [
    {
     "data": {
      "text/html": [
       "<div>\n",
       "<style>\n",
       "    .dataframe thead tr:only-child th {\n",
       "        text-align: right;\n",
       "    }\n",
       "\n",
       "    .dataframe thead th {\n",
       "        text-align: left;\n",
       "    }\n",
       "\n",
       "    .dataframe tbody tr th {\n",
       "        vertical-align: top;\n",
       "    }\n",
       "</style>\n",
       "<table border=\"1\" class=\"dataframe\">\n",
       "  <thead>\n",
       "    <tr style=\"text-align: right;\">\n",
       "      <th></th>\n",
       "      <th>Unnamed: 0</th>\n",
       "      <th>contributing_factor_vehicle_1</th>\n",
       "      <th>contributing_factor_vehicle_2</th>\n",
       "      <th>cross_street_name</th>\n",
       "      <th>date</th>\n",
       "      <th>latitude</th>\n",
       "      <th>location</th>\n",
       "      <th>longitude</th>\n",
       "      <th>number_of_persons_injured</th>\n",
       "      <th>number_of_persons_killed</th>\n",
       "      <th>off_street_name</th>\n",
       "      <th>on_street_name</th>\n",
       "      <th>time</th>\n",
       "      <th>vehicle_type_code1</th>\n",
       "      <th>vehicle_type_code2</th>\n",
       "      <th>zip_code</th>\n",
       "    </tr>\n",
       "  </thead>\n",
       "  <tbody>\n",
       "    <tr>\n",
       "      <th>0</th>\n",
       "      <td>0</td>\n",
       "      <td>Following Too Closely</td>\n",
       "      <td>Unspecified</td>\n",
       "      <td>250       WEST 125 STREET</td>\n",
       "      <td>2017-10-01</td>\n",
       "      <td>40.809574</td>\n",
       "      <td>{u'type': u'Point', u'coordinates': [-73.94977...</td>\n",
       "      <td>-73.949776</td>\n",
       "      <td>0</td>\n",
       "      <td>0</td>\n",
       "      <td>NaN</td>\n",
       "      <td>NaN</td>\n",
       "      <td>19:30</td>\n",
       "      <td>PASSENGER VEHICLE</td>\n",
       "      <td>PASSENGER VEHICLE</td>\n",
       "      <td>10027</td>\n",
       "    </tr>\n",
       "    <tr>\n",
       "      <th>1</th>\n",
       "      <td>1</td>\n",
       "      <td>Following Too Closely</td>\n",
       "      <td>Driver Inattention/Distraction</td>\n",
       "      <td>NaN</td>\n",
       "      <td>2017-10-01</td>\n",
       "      <td>40.723648</td>\n",
       "      <td>{u'type': u'Point', u'coordinates': [-73.99103...</td>\n",
       "      <td>-73.991030</td>\n",
       "      <td>0</td>\n",
       "      <td>0</td>\n",
       "      <td>CHRYSTIE STREET</td>\n",
       "      <td>EAST HOUSTON STREET</td>\n",
       "      <td>7:50</td>\n",
       "      <td>PASSENGER VEHICLE</td>\n",
       "      <td>PASSENGER VEHICLE</td>\n",
       "      <td>10002</td>\n",
       "    </tr>\n",
       "    <tr>\n",
       "      <th>2</th>\n",
       "      <td>2</td>\n",
       "      <td>Unspecified</td>\n",
       "      <td>Unspecified</td>\n",
       "      <td>NaN</td>\n",
       "      <td>2017-10-01</td>\n",
       "      <td>40.806915</td>\n",
       "      <td>{u'type': u'Point', u'coordinates': [-73.93557...</td>\n",
       "      <td>-73.935570</td>\n",
       "      <td>0</td>\n",
       "      <td>0</td>\n",
       "      <td>EAST 129 STREET</td>\n",
       "      <td>LEXINGTON AVENUE</td>\n",
       "      <td>7:10</td>\n",
       "      <td>SPORT UTILITY / STATION WAGON</td>\n",
       "      <td>NaN</td>\n",
       "      <td>10035</td>\n",
       "    </tr>\n",
       "    <tr>\n",
       "      <th>3</th>\n",
       "      <td>3</td>\n",
       "      <td>Obstruction/Debris</td>\n",
       "      <td>NaN</td>\n",
       "      <td>NaN</td>\n",
       "      <td>2017-10-01</td>\n",
       "      <td>40.827057</td>\n",
       "      <td>{u'type': u'Point', u'coordinates': [-73.95202...</td>\n",
       "      <td>-73.952020</td>\n",
       "      <td>1</td>\n",
       "      <td>0</td>\n",
       "      <td>RIVERSIDE DRIVE</td>\n",
       "      <td>WEST 145 STREET</td>\n",
       "      <td>14:20</td>\n",
       "      <td>BICYCLE</td>\n",
       "      <td>NaN</td>\n",
       "      <td>10031</td>\n",
       "    </tr>\n",
       "    <tr>\n",
       "      <th>4</th>\n",
       "      <td>4</td>\n",
       "      <td>Driver Inattention/Distraction</td>\n",
       "      <td>Driver Inattention/Distraction</td>\n",
       "      <td>NaN</td>\n",
       "      <td>2017-10-01</td>\n",
       "      <td>40.863792</td>\n",
       "      <td>{u'type': u'Point', u'coordinates': [-73.91942...</td>\n",
       "      <td>-73.919420</td>\n",
       "      <td>0</td>\n",
       "      <td>0</td>\n",
       "      <td>WEST 206 STREET</td>\n",
       "      <td>10 AVENUE</td>\n",
       "      <td>4:17</td>\n",
       "      <td>PASSENGER VEHICLE</td>\n",
       "      <td>PASSENGER VEHICLE</td>\n",
       "      <td>10034</td>\n",
       "    </tr>\n",
       "  </tbody>\n",
       "</table>\n",
       "</div>"
      ],
      "text/plain": [
       "   Unnamed: 0   contributing_factor_vehicle_1   contributing_factor_vehicle_2  \\\n",
       "0           0           Following Too Closely                     Unspecified   \n",
       "1           1           Following Too Closely  Driver Inattention/Distraction   \n",
       "2           2                     Unspecified                     Unspecified   \n",
       "3           3              Obstruction/Debris                             NaN   \n",
       "4           4  Driver Inattention/Distraction  Driver Inattention/Distraction   \n",
       "\n",
       "                          cross_street_name        date   latitude  \\\n",
       "0  250       WEST 125 STREET                 2017-10-01  40.809574   \n",
       "1                                       NaN  2017-10-01  40.723648   \n",
       "2                                       NaN  2017-10-01  40.806915   \n",
       "3                                       NaN  2017-10-01  40.827057   \n",
       "4                                       NaN  2017-10-01  40.863792   \n",
       "\n",
       "                                            location  longitude  \\\n",
       "0  {u'type': u'Point', u'coordinates': [-73.94977... -73.949776   \n",
       "1  {u'type': u'Point', u'coordinates': [-73.99103... -73.991030   \n",
       "2  {u'type': u'Point', u'coordinates': [-73.93557... -73.935570   \n",
       "3  {u'type': u'Point', u'coordinates': [-73.95202... -73.952020   \n",
       "4  {u'type': u'Point', u'coordinates': [-73.91942... -73.919420   \n",
       "\n",
       "   number_of_persons_injured  number_of_persons_killed  off_street_name  \\\n",
       "0                          0                         0              NaN   \n",
       "1                          0                         0  CHRYSTIE STREET   \n",
       "2                          0                         0  EAST 129 STREET   \n",
       "3                          1                         0  RIVERSIDE DRIVE   \n",
       "4                          0                         0  WEST 206 STREET   \n",
       "\n",
       "                     on_street_name   time             vehicle_type_code1  \\\n",
       "0                               NaN  19:30              PASSENGER VEHICLE   \n",
       "1  EAST HOUSTON STREET                7:50              PASSENGER VEHICLE   \n",
       "2  LEXINGTON AVENUE                   7:10  SPORT UTILITY / STATION WAGON   \n",
       "3  WEST 145 STREET                   14:20                        BICYCLE   \n",
       "4  10 AVENUE                          4:17              PASSENGER VEHICLE   \n",
       "\n",
       "  vehicle_type_code2  zip_code  \n",
       "0  PASSENGER VEHICLE     10027  \n",
       "1  PASSENGER VEHICLE     10002  \n",
       "2                NaN     10035  \n",
       "3                NaN     10031  \n",
       "4  PASSENGER VEHICLE     10034  "
      ]
     },
     "execution_count": 105,
     "metadata": {},
     "output_type": "execute_result"
    }
   ],
   "source": [
    "accident.head()"
   ]
  },
  {
   "cell_type": "code",
   "execution_count": 106,
   "metadata": {},
   "outputs": [],
   "source": [
    "accident = accident[accident.longitude<>0]"
   ]
  },
  {
   "cell_type": "code",
   "execution_count": 107,
   "metadata": {},
   "outputs": [
    {
     "data": {
      "text/plain": [
       "count    2405.000000\n",
       "mean      -73.975838\n",
       "std         0.023057\n",
       "min       -74.017820\n",
       "25%       -73.993805\n",
       "50%       -73.981590\n",
       "75%       -73.958360\n",
       "max       -73.912605\n",
       "Name: longitude, dtype: float64"
      ]
     },
     "execution_count": 107,
     "metadata": {},
     "output_type": "execute_result"
    }
   ],
   "source": [
    "accident.longitude.describe()"
   ]
  },
  {
   "cell_type": "code",
   "execution_count": 100,
   "metadata": {},
   "outputs": [
    {
     "name": "stdout",
     "output_type": "stream",
     "text": [
      "Populating the interactive namespace from numpy and matplotlib\n"
     ]
    }
   ],
   "source": [
    "import pylab as pl\n",
    "% pylab inline"
   ]
  },
  {
   "cell_type": "code",
   "execution_count": 108,
   "metadata": {},
   "outputs": [
    {
     "data": {
      "image/png": "[encoded data removed]",
      "text/plain": [
       "<matplotlib.figure.Figure at 0x10beea190>"
      ]
     },
     "metadata": {},
     "output_type": "display_data"
    }
   ],
   "source": [
    "pl.plot(accident.latitude,accident.longitude,'.')\n",
    "pl.show()"
   ]
  },
  {
   "cell_type": "code",
   "execution_count": 151,
   "metadata": {},
   "outputs": [],
   "source": [
    "acci_zip = pd.DataFrame(accident.groupby('zip_code',as_index=False).size())\n",
    "acci_zip.columns = ['count_acci']"
   ]
  },
  {
   "cell_type": "code",
   "execution_count": 152,
   "metadata": {},
   "outputs": [],
   "source": [
    "acci_zip.sort_values('count_acci',ascending=False,inplace=True)\n",
    "acci_zip.reset_index(inplace=True)"
   ]
  },
  {
   "cell_type": "code",
   "execution_count": 153,
   "metadata": {},
   "outputs": [
    {
     "data": {
      "text/html": [
       "<div>\n",
       "<style>\n",
       "    .dataframe thead tr:only-child th {\n",
       "        text-align: right;\n",
       "    }\n",
       "\n",
       "    .dataframe thead th {\n",
       "        text-align: left;\n",
       "    }\n",
       "\n",
       "    .dataframe tbody tr th {\n",
       "        vertical-align: top;\n",
       "    }\n",
       "</style>\n",
       "<table border=\"1\" class=\"dataframe\">\n",
       "  <thead>\n",
       "    <tr style=\"text-align: right;\">\n",
       "      <th></th>\n",
       "      <th>zip_code</th>\n",
       "      <th>count_acci</th>\n",
       "    </tr>\n",
       "  </thead>\n",
       "  <tbody>\n",
       "    <tr>\n",
       "      <th>0</th>\n",
       "      <td>10019</td>\n",
       "      <td>164</td>\n",
       "    </tr>\n",
       "    <tr>\n",
       "      <th>1</th>\n",
       "      <td>10036</td>\n",
       "      <td>155</td>\n",
       "    </tr>\n",
       "    <tr>\n",
       "      <th>2</th>\n",
       "      <td>10018</td>\n",
       "      <td>144</td>\n",
       "    </tr>\n",
       "    <tr>\n",
       "      <th>3</th>\n",
       "      <td>10001</td>\n",
       "      <td>142</td>\n",
       "    </tr>\n",
       "    <tr>\n",
       "      <th>4</th>\n",
       "      <td>10002</td>\n",
       "      <td>136</td>\n",
       "    </tr>\n",
       "  </tbody>\n",
       "</table>\n",
       "</div>"
      ],
      "text/plain": [
       "   zip_code  count_acci\n",
       "0     10019         164\n",
       "1     10036         155\n",
       "2     10018         144\n",
       "3     10001         142\n",
       "4     10002         136"
      ]
     },
     "execution_count": 153,
     "metadata": {},
     "output_type": "execute_result"
    }
   ],
   "source": [
    "acci_zip.head()"
   ]
  },
  {
   "cell_type": "markdown",
   "metadata": {},
   "source": [
    "# In Oct 2017, top 5 zipcode in Manhattan is 10019,10036,10018,10001,10002"
   ]
  },
  {
   "cell_type": "code",
   "execution_count": 149,
   "metadata": {},
   "outputs": [
    {
     "data": {
      "text/plain": [
       "<Container object of 58 artists>"
      ]
     },
     "execution_count": 149,
     "metadata": {},
     "output_type": "execute_result"
    },
    {
     "data": {
      "image/png": "[encoded data removed]",
      "text/plain": [
       "<matplotlib.figure.Figure at 0x10d2c7610>"
      ]
     },
     "metadata": {},
     "output_type": "display_data"
    }
   ],
   "source": [
    "pl.bar(acci_zip['zip_code'],acci_zip['count_acci'])\n"
   ]
  },
  {
   "cell_type": "code",
   "execution_count": null,
   "metadata": {},
   "outputs": [],
   "source": []
  },
  {
   "cell_type": "code",
   "execution_count": null,
   "metadata": {},
   "outputs": [],
   "source": []
  },
  {
   "cell_type": "code",
   "execution_count": 109,
   "metadata": {},
   "outputs": [],
   "source": [
    "injured = accident[accident.number_of_persons_injured <> 0]"
   ]
  },
  {
   "cell_type": "code",
   "execution_count": 110,
   "metadata": {},
   "outputs": [
    {
     "data": {
      "text/html": [
       "<div>\n",
       "<style>\n",
       "    .dataframe thead tr:only-child th {\n",
       "        text-align: right;\n",
       "    }\n",
       "\n",
       "    .dataframe thead th {\n",
       "        text-align: left;\n",
       "    }\n",
       "\n",
       "    .dataframe tbody tr th {\n",
       "        vertical-align: top;\n",
       "    }\n",
       "</style>\n",
       "<table border=\"1\" class=\"dataframe\">\n",
       "  <thead>\n",
       "    <tr style=\"text-align: right;\">\n",
       "      <th></th>\n",
       "      <th>Unnamed: 0</th>\n",
       "      <th>contributing_factor_vehicle_1</th>\n",
       "      <th>contributing_factor_vehicle_2</th>\n",
       "      <th>cross_street_name</th>\n",
       "      <th>date</th>\n",
       "      <th>latitude</th>\n",
       "      <th>location</th>\n",
       "      <th>longitude</th>\n",
       "      <th>number_of_persons_injured</th>\n",
       "      <th>number_of_persons_killed</th>\n",
       "      <th>off_street_name</th>\n",
       "      <th>on_street_name</th>\n",
       "      <th>time</th>\n",
       "      <th>vehicle_type_code1</th>\n",
       "      <th>vehicle_type_code2</th>\n",
       "      <th>zip_code</th>\n",
       "    </tr>\n",
       "  </thead>\n",
       "  <tbody>\n",
       "    <tr>\n",
       "      <th>3</th>\n",
       "      <td>3</td>\n",
       "      <td>Obstruction/Debris</td>\n",
       "      <td>NaN</td>\n",
       "      <td>NaN</td>\n",
       "      <td>2017-10-01</td>\n",
       "      <td>40.827057</td>\n",
       "      <td>{u'type': u'Point', u'coordinates': [-73.95202...</td>\n",
       "      <td>-73.95202</td>\n",
       "      <td>1</td>\n",
       "      <td>0</td>\n",
       "      <td>RIVERSIDE DRIVE</td>\n",
       "      <td>WEST 145 STREET</td>\n",
       "      <td>14:20</td>\n",
       "      <td>BICYCLE</td>\n",
       "      <td>NaN</td>\n",
       "      <td>10031</td>\n",
       "    </tr>\n",
       "    <tr>\n",
       "      <th>5</th>\n",
       "      <td>5</td>\n",
       "      <td>Driver Inattention/Distraction</td>\n",
       "      <td>NaN</td>\n",
       "      <td>NaN</td>\n",
       "      <td>2017-10-01</td>\n",
       "      <td>40.722400</td>\n",
       "      <td>{u'type': u'Point', u'coordinates': [-73.99165...</td>\n",
       "      <td>-73.99165</td>\n",
       "      <td>2</td>\n",
       "      <td>0</td>\n",
       "      <td>CHRYSTIE STREET</td>\n",
       "      <td>STANTON STREET</td>\n",
       "      <td>22:00</td>\n",
       "      <td>PASSENGER VEHICLE</td>\n",
       "      <td>NaN</td>\n",
       "      <td>10002</td>\n",
       "    </tr>\n",
       "    <tr>\n",
       "      <th>6</th>\n",
       "      <td>6</td>\n",
       "      <td>Turning Improperly</td>\n",
       "      <td>Unspecified</td>\n",
       "      <td>329       WEST 42 STREET</td>\n",
       "      <td>2017-10-01</td>\n",
       "      <td>40.757656</td>\n",
       "      <td>{u'type': u'Point', u'coordinates': [-73.99079...</td>\n",
       "      <td>-73.99079</td>\n",
       "      <td>2</td>\n",
       "      <td>0</td>\n",
       "      <td>NaN</td>\n",
       "      <td>NaN</td>\n",
       "      <td>14:05</td>\n",
       "      <td>PASSENGER VEHICLE</td>\n",
       "      <td>NaN</td>\n",
       "      <td>10036</td>\n",
       "    </tr>\n",
       "    <tr>\n",
       "      <th>8</th>\n",
       "      <td>8</td>\n",
       "      <td>Following Too Closely</td>\n",
       "      <td>Following Too Closely</td>\n",
       "      <td>NaN</td>\n",
       "      <td>2017-10-01</td>\n",
       "      <td>40.726280</td>\n",
       "      <td>{u'type': u'Point', u'coordinates': [-73.98034...</td>\n",
       "      <td>-73.98034</td>\n",
       "      <td>1</td>\n",
       "      <td>0</td>\n",
       "      <td>EAST 9 STREET</td>\n",
       "      <td>AVENUE B</td>\n",
       "      <td>12:15</td>\n",
       "      <td>PASSENGER VEHICLE</td>\n",
       "      <td>BICYCLE</td>\n",
       "      <td>10009</td>\n",
       "    </tr>\n",
       "    <tr>\n",
       "      <th>30</th>\n",
       "      <td>30</td>\n",
       "      <td>Driver Inattention/Distraction</td>\n",
       "      <td>NaN</td>\n",
       "      <td>NaN</td>\n",
       "      <td>2017-10-01</td>\n",
       "      <td>40.858273</td>\n",
       "      <td>{u'type': u'Point', u'coordinates': [-73.93182...</td>\n",
       "      <td>-73.93182</td>\n",
       "      <td>1</td>\n",
       "      <td>0</td>\n",
       "      <td>WEST 193 STREET</td>\n",
       "      <td>BROADWAY</td>\n",
       "      <td>19:40</td>\n",
       "      <td>PASSENGER VEHICLE</td>\n",
       "      <td>NaN</td>\n",
       "      <td>10040</td>\n",
       "    </tr>\n",
       "  </tbody>\n",
       "</table>\n",
       "</div>"
      ],
      "text/plain": [
       "    Unnamed: 0   contributing_factor_vehicle_1 contributing_factor_vehicle_2  \\\n",
       "3            3              Obstruction/Debris                           NaN   \n",
       "5            5  Driver Inattention/Distraction                           NaN   \n",
       "6            6              Turning Improperly                   Unspecified   \n",
       "8            8           Following Too Closely         Following Too Closely   \n",
       "30          30  Driver Inattention/Distraction                           NaN   \n",
       "\n",
       "                           cross_street_name        date   latitude  \\\n",
       "3                                        NaN  2017-10-01  40.827057   \n",
       "5                                        NaN  2017-10-01  40.722400   \n",
       "6   329       WEST 42 STREET                  2017-10-01  40.757656   \n",
       "8                                        NaN  2017-10-01  40.726280   \n",
       "30                                       NaN  2017-10-01  40.858273   \n",
       "\n",
       "                                             location  longitude  \\\n",
       "3   {u'type': u'Point', u'coordinates': [-73.95202...  -73.95202   \n",
       "5   {u'type': u'Point', u'coordinates': [-73.99165...  -73.99165   \n",
       "6   {u'type': u'Point', u'coordinates': [-73.99079...  -73.99079   \n",
       "8   {u'type': u'Point', u'coordinates': [-73.98034...  -73.98034   \n",
       "30  {u'type': u'Point', u'coordinates': [-73.93182...  -73.93182   \n",
       "\n",
       "    number_of_persons_injured  number_of_persons_killed  off_street_name  \\\n",
       "3                           1                         0  RIVERSIDE DRIVE   \n",
       "5                           2                         0  CHRYSTIE STREET   \n",
       "6                           2                         0              NaN   \n",
       "8                           1                         0    EAST 9 STREET   \n",
       "30                          1                         0  WEST 193 STREET   \n",
       "\n",
       "                      on_street_name   time vehicle_type_code1  \\\n",
       "3   WEST 145 STREET                   14:20            BICYCLE   \n",
       "5   STANTON STREET                    22:00  PASSENGER VEHICLE   \n",
       "6                                NaN  14:05  PASSENGER VEHICLE   \n",
       "8   AVENUE B                          12:15  PASSENGER VEHICLE   \n",
       "30  BROADWAY                          19:40  PASSENGER VEHICLE   \n",
       "\n",
       "   vehicle_type_code2  zip_code  \n",
       "3                 NaN     10031  \n",
       "5                 NaN     10002  \n",
       "6                 NaN     10036  \n",
       "8             BICYCLE     10009  \n",
       "30                NaN     10040  "
      ]
     },
     "execution_count": 110,
     "metadata": {},
     "output_type": "execute_result"
    }
   ],
   "source": [
    "injured.head()"
   ]
  },
  {
   "cell_type": "code",
   "execution_count": 111,
   "metadata": {},
   "outputs": [
    {
     "data": {
      "image/png": "[encoded data removed]",
      "text/plain": [
       "<matplotlib.figure.Figure at 0x10c020890>"
      ]
     },
     "metadata": {},
     "output_type": "display_data"
    }
   ],
   "source": [
    "pl.plot(injured.latitude,injured.longitude,'.')\n",
    "pl.show()"
   ]
  },
  {
   "cell_type": "code",
   "execution_count": 154,
   "metadata": {},
   "outputs": [
    {
     "data": {
      "text/html": [
       "<div>\n",
       "<style>\n",
       "    .dataframe thead tr:only-child th {\n",
       "        text-align: right;\n",
       "    }\n",
       "\n",
       "    .dataframe thead th {\n",
       "        text-align: left;\n",
       "    }\n",
       "\n",
       "    .dataframe tbody tr th {\n",
       "        vertical-align: top;\n",
       "    }\n",
       "</style>\n",
       "<table border=\"1\" class=\"dataframe\">\n",
       "  <thead>\n",
       "    <tr style=\"text-align: right;\">\n",
       "      <th></th>\n",
       "      <th>zip_code</th>\n",
       "      <th>count_inju</th>\n",
       "    </tr>\n",
       "  </thead>\n",
       "  <tbody>\n",
       "    <tr>\n",
       "      <th>0</th>\n",
       "      <td>10002</td>\n",
       "      <td>30</td>\n",
       "    </tr>\n",
       "    <tr>\n",
       "      <th>1</th>\n",
       "      <td>10019</td>\n",
       "      <td>26</td>\n",
       "    </tr>\n",
       "    <tr>\n",
       "      <th>2</th>\n",
       "      <td>10029</td>\n",
       "      <td>23</td>\n",
       "    </tr>\n",
       "    <tr>\n",
       "      <th>3</th>\n",
       "      <td>10036</td>\n",
       "      <td>18</td>\n",
       "    </tr>\n",
       "    <tr>\n",
       "      <th>4</th>\n",
       "      <td>10022</td>\n",
       "      <td>17</td>\n",
       "    </tr>\n",
       "  </tbody>\n",
       "</table>\n",
       "</div>"
      ],
      "text/plain": [
       "   zip_code  count_inju\n",
       "0     10002          30\n",
       "1     10019          26\n",
       "2     10029          23\n",
       "3     10036          18\n",
       "4     10022          17"
      ]
     },
     "execution_count": 154,
     "metadata": {},
     "output_type": "execute_result"
    }
   ],
   "source": [
    "inju_zip = pd.DataFrame(injured.groupby('zip_code').size(),index=None)\n",
    "inju_zip.columns = ['count_inju']\n",
    "inju_zip.sort_values('count_inju',ascending=False,inplace=True)\n",
    "inju_zip.reset_index(inplace=True)\n",
    "inju_zip.head()"
   ]
  },
  {
   "cell_type": "code",
   "execution_count": null,
   "metadata": {},
   "outputs": [],
   "source": []
  },
  {
   "cell_type": "code",
   "execution_count": null,
   "metadata": {},
   "outputs": [],
   "source": []
  },
  {
   "cell_type": "markdown",
   "metadata": {},
   "source": [
    "# Get Real_time speed via Open Data API"
   ]
  },
  {
   "cell_type": "code",
   "execution_count": 203,
   "metadata": {},
   "outputs": [],
   "source": [
    "#!/usr/bin/env python\n",
    "\n",
    "# make sure to install these packages before running:\n",
    "# pip install pandas\n",
    "# pip install sodapy\n",
    "\n",
    "import pandas as pd\n",
    "from sodapy import Socrata\n",
    "\n",
    "# Unauthenticated client only works with public data sets. Note 'None'\n",
    "# in place of application token, and no username or password:\n",
    "#client = Socrata(\"data.cityofnewyork.us\", None)\n",
    "MyAppToken = 'FuCzu5cIpbE8LgmfNlJhuUOPC'\n",
    "# Example authenticated client (needed for non-public datasets):\n",
    "client = Socrata(\"data.cityofnewyork.us\",\n",
    "                 MyAppToken,\n",
    "                 username=\"yukun.vvan@gmail.com\",\n",
    "                 password=\"9336@ashinWYK\")\n",
    "\n",
    "# First 2000 results, returned as JSON from API / converted to Python list of\n",
    "# dictionaries by sodapy.\n",
    "results = client.get(\"i4gi-tjb9\",where=\"borough = 'Manhattan' and speed > '25'\", limit=2000 ,order=\"Data_as_of DESC\")\n",
    "\n",
    "# Convert to pandas DataFrame\n",
    "results_df = pd.DataFrame.from_records(results)"
   ]
  },
  {
   "cell_type": "code",
   "execution_count": 204,
   "metadata": {},
   "outputs": [
    {
     "data": {
      "text/html": [
       "<div>\n",
       "<style>\n",
       "    .dataframe thead tr:only-child th {\n",
       "        text-align: right;\n",
       "    }\n",
       "\n",
       "    .dataframe thead th {\n",
       "        text-align: left;\n",
       "    }\n",
       "\n",
       "    .dataframe tbody tr th {\n",
       "        vertical-align: top;\n",
       "    }\n",
       "</style>\n",
       "<table border=\"1\" class=\"dataframe\">\n",
       "  <thead>\n",
       "    <tr style=\"text-align: right;\">\n",
       "      <th></th>\n",
       "      <th>borough</th>\n",
       "      <th>data_as_of</th>\n",
       "      <th>encoded_poly_line</th>\n",
       "      <th>encoded_poly_line_lvls</th>\n",
       "      <th>id</th>\n",
       "      <th>link_id</th>\n",
       "      <th>link_name</th>\n",
       "      <th>link_points</th>\n",
       "      <th>owner</th>\n",
       "      <th>speed</th>\n",
       "      <th>status</th>\n",
       "      <th>transcom_id</th>\n",
       "      <th>travel_time</th>\n",
       "    </tr>\n",
       "  </thead>\n",
       "  <tbody>\n",
       "    <tr>\n",
       "      <th>0</th>\n",
       "      <td>Manhattan</td>\n",
       "      <td>2017-11-12T23:13:22.000</td>\n",
       "      <td>y{swFvavbMjANlGSvQn@fa@fBhQdA</td>\n",
       "      <td>BBBBBB</td>\n",
       "      <td>2</td>\n",
       "      <td>4616325</td>\n",
       "      <td>11th ave s ganservoort - west st @ spring st</td>\n",
       "      <td>40.73933,-74.01004 40.73895,-74.01012 40.7376,...</td>\n",
       "      <td>NYC_DOT_LIC</td>\n",
       "      <td>5.59</td>\n",
       "      <td>0</td>\n",
       "      <td>4616325</td>\n",
       "      <td>554</td>\n",
       "    </tr>\n",
       "    <tr>\n",
       "      <th>1</th>\n",
       "      <td>Manhattan</td>\n",
       "      <td>2017-11-12T23:13:22.000</td>\n",
       "      <td>slswFpdobMcJ{Fy@_@sBq@kKeBaDc@eB_@iBs@kC{AuBkA...</td>\n",
       "      <td>BBBBBBBBBBBBBBBBBBBBBBBBB</td>\n",
       "      <td>215</td>\n",
       "      <td>4616329</td>\n",
       "      <td>FDR N 25th - 63rd St</td>\n",
       "      <td>40.7369006,-73.974651 40.73868,-73.973391 40.7...</td>\n",
       "      <td>NYC_DOT_LIC</td>\n",
       "      <td>37.28</td>\n",
       "      <td>0</td>\n",
       "      <td>4616329</td>\n",
       "      <td>182</td>\n",
       "    </tr>\n",
       "    <tr>\n",
       "      <th>2</th>\n",
       "      <td>Manhattan</td>\n",
       "      <td>2017-11-12T23:13:22.000</td>\n",
       "      <td>iaxwF|tkbMhBnCtChChGpEjGxE~CvBxEnGlGhFrA|AfAp@...</td>\n",
       "      <td>BBBBBBBBBBBBBBBBBBBBBBBBB</td>\n",
       "      <td>222</td>\n",
       "      <td>4616332</td>\n",
       "      <td>FDR S 63rd - 25th St</td>\n",
       "      <td>40.7606904,-73.956791 40.7601606,-73.95751 40....</td>\n",
       "      <td>NYC_DOT_LIC</td>\n",
       "      <td>37.28</td>\n",
       "      <td>0</td>\n",
       "      <td>4616332</td>\n",
       "      <td>182</td>\n",
       "    </tr>\n",
       "    <tr>\n",
       "      <th>3</th>\n",
       "      <td>Manhattan</td>\n",
       "      <td>2017-11-12T23:13:17.000</td>\n",
       "      <td>i{_xFzefbMyBvGUlACt@Rj@d@f@z@@`@W\\g@bA_DTk@b@i...</td>\n",
       "      <td>BBBBBBBBBBBBBBBBBBBBBBB</td>\n",
       "      <td>213</td>\n",
       "      <td>4456450</td>\n",
       "      <td>FDR N - TBB E 116TH STREET - MANHATTAN TRUSS</td>\n",
       "      <td>40.80069,-73.92878 40.8013005,-73.930181 40.80...</td>\n",
       "      <td>MTA Bridges &amp; Tunnels</td>\n",
       "      <td>37.28</td>\n",
       "      <td>0</td>\n",
       "      <td>4456450</td>\n",
       "      <td>64</td>\n",
       "    </tr>\n",
       "    <tr>\n",
       "      <th>4</th>\n",
       "      <td>Manhattan</td>\n",
       "      <td>2017-11-12T23:13:17.000</td>\n",
       "      <td>wiqwFnhvbMvD^xb@lFxQvCrb@hHlLjChHnBPgBh@gA|@Wz...</td>\n",
       "      <td>BBBBBBBBBBBBBBBBBBBBBBBBBBBBBBB</td>\n",
       "      <td>445</td>\n",
       "      <td>4456494</td>\n",
       "      <td>West St S Spring St - BBT Manhattan Portal out...</td>\n",
       "      <td>40.7262006,-74.01112 40.7252805,-74.01128 40.7...</td>\n",
       "      <td>NYC_DOT_LIC</td>\n",
       "      <td>8.69</td>\n",
       "      <td>0</td>\n",
       "      <td>4456494</td>\n",
       "      <td>641</td>\n",
       "    </tr>\n",
       "  </tbody>\n",
       "</table>\n",
       "</div>"
      ],
      "text/plain": [
       "     borough               data_as_of  \\\n",
       "0  Manhattan  2017-11-12T23:13:22.000   \n",
       "1  Manhattan  2017-11-12T23:13:22.000   \n",
       "2  Manhattan  2017-11-12T23:13:22.000   \n",
       "3  Manhattan  2017-11-12T23:13:17.000   \n",
       "4  Manhattan  2017-11-12T23:13:17.000   \n",
       "\n",
       "                                   encoded_poly_line  \\\n",
       "0                      y{swFvavbMjANlGSvQn@fa@fBhQdA   \n",
       "1  slswFpdobMcJ{Fy@_@sBq@kKeBaDc@eB_@iBs@kC{AuBkA...   \n",
       "2  iaxwF|tkbMhBnCtChChGpEjGxE~CvBxEnGlGhFrA|AfAp@...   \n",
       "3  i{_xFzefbMyBvGUlACt@Rj@d@f@z@@`@W\\g@bA_DTk@b@i...   \n",
       "4  wiqwFnhvbMvD^xb@lFxQvCrb@hHlLjChHnBPgBh@gA|@Wz...   \n",
       "\n",
       "            encoded_poly_line_lvls   id  link_id  \\\n",
       "0                           BBBBBB    2  4616325   \n",
       "1        BBBBBBBBBBBBBBBBBBBBBBBBB  215  4616329   \n",
       "2        BBBBBBBBBBBBBBBBBBBBBBBBB  222  4616332   \n",
       "3          BBBBBBBBBBBBBBBBBBBBBBB  213  4456450   \n",
       "4  BBBBBBBBBBBBBBBBBBBBBBBBBBBBBBB  445  4456494   \n",
       "\n",
       "                                           link_name  \\\n",
       "0       11th ave s ganservoort - west st @ spring st   \n",
       "1                               FDR N 25th - 63rd St   \n",
       "2                               FDR S 63rd - 25th St   \n",
       "3       FDR N - TBB E 116TH STREET - MANHATTAN TRUSS   \n",
       "4  West St S Spring St - BBT Manhattan Portal out...   \n",
       "\n",
       "                                         link_points                  owner  \\\n",
       "0  40.73933,-74.01004 40.73895,-74.01012 40.7376,...            NYC_DOT_LIC   \n",
       "1  40.7369006,-73.974651 40.73868,-73.973391 40.7...            NYC_DOT_LIC   \n",
       "2  40.7606904,-73.956791 40.7601606,-73.95751 40....            NYC_DOT_LIC   \n",
       "3  40.80069,-73.92878 40.8013005,-73.930181 40.80...  MTA Bridges & Tunnels   \n",
       "4  40.7262006,-74.01112 40.7252805,-74.01128 40.7...            NYC_DOT_LIC   \n",
       "\n",
       "   speed status transcom_id travel_time  \n",
       "0   5.59      0     4616325         554  \n",
       "1  37.28      0     4616329         182  \n",
       "2  37.28      0     4616332         182  \n",
       "3  37.28      0     4456450          64  \n",
       "4   8.69      0     4456494         641  "
      ]
     },
     "execution_count": 204,
     "metadata": {},
     "output_type": "execute_result"
    }
   ],
   "source": [
    "results_df.head()"
   ]
  },
  {
   "cell_type": "code",
   "execution_count": 171,
   "metadata": {},
   "outputs": [
    {
     "data": {
      "text/plain": [
       "unicode"
      ]
     },
     "execution_count": 171,
     "metadata": {},
     "output_type": "execute_result"
    }
   ],
   "source": [
    "type(results_df.data_as_of[0])"
   ]
  },
  {
   "cell_type": "code",
   "execution_count": 191,
   "metadata": {},
   "outputs": [
    {
     "data": {
      "text/plain": [
       "array([u'Staten Island', u'Staten island', u'Brooklyn', u'Queens',\n",
       "       u'Bronx', u'Manhattan'], dtype=object)"
      ]
     },
     "execution_count": 191,
     "metadata": {},
     "output_type": "execute_result"
    }
   ],
   "source": [
    "results_df.borough.unique()"
   ]
  },
  {
   "cell_type": "code",
   "execution_count": null,
   "metadata": {},
   "outputs": [],
   "source": []
  }
 ],
 "metadata": {
  "kernelspec": {
   "display_name": "Python 2",
   "language": "python",
   "name": "python2"
  },
  "language_info": {
   "codemirror_mode": {
    "name": "ipython",
    "version": 2
   },
   "file_extension": ".py",
   "mimetype": "text/x-python",
   "name": "python",
   "nbconvert_exporter": "python",
   "pygments_lexer": "ipython2",
   "version": "2.7.13"
  }
 },
 "nbformat": 4,
 "nbformat_minor": 2
}
